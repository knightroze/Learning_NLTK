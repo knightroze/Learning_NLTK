{
 "cells": [
  {
   "cell_type": "code",
   "execution_count": 2,
   "metadata": {},
   "outputs": [
    {
     "name": "stdout",
     "output_type": "stream",
     "text": [
      "[1, 2, 3, 4]\n"
     ]
    }
   ],
   "source": [
    "#1.2.1\n",
    "lst=[1,2,3,4]\n",
    "print(lst)"
   ]
  },
  {
   "cell_type": "code",
   "execution_count": 3,
   "metadata": {},
   "outputs": [
    {
     "name": "stdout",
     "output_type": "stream",
     "text": [
      "1st element1\n"
     ]
    }
   ],
   "source": [
    "print('1st element'+repr(lst[0]))"
   ]
  },
  {
   "cell_type": "code",
   "execution_count": 4,
   "metadata": {},
   "outputs": [
    {
     "name": "stdout",
     "output_type": "stream",
     "text": [
      "['Monty', 'Python', '!', 'And', 'the', 'holy', 'Grail', '!']\n"
     ]
    }
   ],
   "source": [
    "#1.2.2\n",
    "mystring=  'Monty Python ! And the holy Grail ! \\n'\n",
    "print(mystring.split())"
   ]
  },
  {
   "cell_type": "code",
   "execution_count": 5,
   "metadata": {},
   "outputs": [
    {
     "name": "stdout",
     "output_type": "stream",
     "text": [
      "we found python\n"
     ]
    }
   ],
   "source": [
    "#1.2.3 regular expression\n",
    "import re\n",
    "if re.search('Python',mystring):\n",
    "    print(\"we found python\")\n",
    "else:\n",
    "    print(\"NO\")  "
   ]
  },
  {
   "cell_type": "code",
   "execution_count": 6,
   "metadata": {},
   "outputs": [
    {
     "data": {
      "text/plain": [
       "['!', '!']"
      ]
     },
     "execution_count": 6,
     "metadata": {},
     "output_type": "execute_result"
    }
   ],
   "source": [
    "re.search('!',mystring)\n",
    "re.findall('!',mystring)"
   ]
  },
  {
   "cell_type": "code",
   "execution_count": 7,
   "metadata": {},
   "outputs": [
    {
     "name": "stdout",
     "output_type": "stream",
     "text": [
      "{'Monty': 1, 'Python': 1, '!': 2, 'And': 1, 'the': 1, 'holy': 1, 'Grail': 1}\n"
     ]
    }
   ],
   "source": [
    "#1.2.4 dictionary\n",
    "word_freq={}\n",
    "for tok in mystring.split():\n",
    "    if tok in word_freq:\n",
    "        word_freq [tok]+=1\n",
    "    else:\n",
    "        word_freq [tok]=1\n",
    "print(word_freq)"
   ]
  },
  {
   "cell_type": "code",
   "execution_count": 8,
   "metadata": {
    "collapsed": true
   },
   "outputs": [],
   "source": [
    "#1.2.5 function\n",
    "import sys\n",
    "def wordfreq (mystring):\n",
    "    '''\n",
    "    Function to generated the frequency distibution of the given text\n",
    "    '''\n",
    "    print(mystring)\n",
    "    word_freq={}\n",
    "    for tok in mystring.split():\n",
    "        if tok in word_freq:\n",
    "            word_freq [tok]+=1\n",
    "        else:\n",
    "            word_freq [tok]=1\n",
    "    print(word_freq)"
   ]
  },
  {
   "cell_type": "code",
   "execution_count": 9,
   "metadata": {},
   "outputs": [
    {
     "name": "stdout",
     "output_type": "stream",
     "text": [
      "This is my first python program\n",
      "{'This': 1, 'is': 1, 'my': 1, 'first': 1, 'python': 1, 'program': 1}\n"
     ]
    }
   ],
   "source": [
    "def main():\n",
    "    str = 'This is my first python program'\n",
    "    wordfreq(str)\n",
    "if __name__=='__main__':\n",
    "    main()"
   ]
  },
  {
   "cell_type": "code",
   "execution_count": 10,
   "metadata": {},
   "outputs": [
    {
     "name": "stdout",
     "output_type": "stream",
     "text": [
      "49273\n"
     ]
    }
   ],
   "source": [
    "#1.3 chance nltk\n",
    "from urllib import request\n",
    "response = request.urlopen('http://python.org/')\n",
    "html = response.read()\n",
    "print(len(html))\n"
   ]
  },
  {
   "cell_type": "code",
   "execution_count": 11,
   "metadata": {},
   "outputs": [
    {
     "name": "stdout",
     "output_type": "stream",
     "text": [
      "['Welcome', 'to', 'Python.org', '{', '\"@context\":', '\"http://schema.org\",', '\"@type\":', '\"WebSite\",', '\"url\":', '\"https://www.python.org/\",', '\"potentialAction\":', '{', '\"@type\":', '\"SearchAction\",', '\"target\":', '\"https://www.python.org/search/?q={search_term_string}\",', '\"query-input\":', '\"required', 'name=search_term_string\"', '}', '}', 'var', '_gaq', '=', '_gaq', '||', '[];', \"_gaq.push(['_setAccount',\", \"'UA-39055973-1']);\", \"_gaq.push(['_trackPageview']);\", '(function()', '{', 'var', 'ga', '=', \"document.createElement('script');\", 'ga.type', '=', \"'text/javascript';\", 'ga.async', '=', 'true;', 'ga.src', '=', \"('https:'\", '==', 'document.location.protocol', '?', \"'https://ssl'\", ':', \"'http://www')\", '+', \"'.google-analytics.com/ga.js';\", 'var', 's', '=', \"document.getElementsByTagName('script')[0];\", 's.parentNode.insertBefore(ga,', 's);', '})();', 'Notice:', 'While', 'Javascript', 'is', 'not', 'essential', 'for', 'this', 'website,', 'your', 'interaction', 'with', 'the', 'content', 'will', 'be', 'limited.', 'Please', 'turn', 'Javascript', 'on', 'for', 'the', 'full', 'experience.', 'Skip', 'to', 'content', '▼', 'Close', 'Python', 'PSF', 'Docs', 'PyPI', 'Jobs', 'Community', '▲', 'The', 'Python', 'Network']\n"
     ]
    }
   ],
   "source": [
    "import nltk\n",
    "from bs4 import BeautifulSoup\n",
    "#use beautifulsoup to clean the html mark.\n",
    "soup = BeautifulSoup(html,'lxml')\n",
    "clean = soup.get_text()\n",
    "tokens = [tok for tok in clean.split()]\n",
    "print(tokens[:100])"
   ]
  },
  {
   "cell_type": "code",
   "execution_count": 12,
   "metadata": {},
   "outputs": [
    {
     "name": "stdout",
     "output_type": "stream",
     "text": [
      "<FreqDist with 627 samples and 1129 outcomes>\n"
     ]
    }
   ],
   "source": [
    "Freq_dist_nltk = nltk.FreqDist(tokens)\n",
    "print(Freq_dist_nltk)"
   ]
  },
  {
   "cell_type": "code",
   "execution_count": 13,
   "metadata": {},
   "outputs": [
    {
     "name": "stdout",
     "output_type": "stream",
     "text": [
      "Welcome:1\n",
      "to:19\n",
      "Python.org:1\n",
      "{:3\n",
      "\"@context\"::1\n",
      "\"http://schema.org\",:1\n",
      "\"@type\"::2\n",
      "\"WebSite\",:1\n",
      "\"url\"::1\n",
      "\"https://www.python.org/\",:1\n",
      "\"potentialAction\"::1\n",
      "\"SearchAction\",:1\n",
      "\"target\"::1\n",
      "\"https://www.python.org/search/?q={search_term_string}\",:1\n",
      "\"query-input\"::1\n",
      "\"required:1\n",
      "name=search_term_string\":1\n",
      "}:2\n",
      "var:3\n",
      "_gaq:2\n",
      "=:14\n",
      "||:2\n",
      "[];:1\n",
      "_gaq.push(['_setAccount',:1\n",
      "'UA-39055973-1']);:1\n",
      "_gaq.push(['_trackPageview']);:1\n",
      "(function():1\n",
      "ga:1\n",
      "document.createElement('script');:1\n",
      "ga.type:1\n",
      "'text/javascript';:1\n",
      "ga.async:1\n",
      "true;:1\n",
      "ga.src:1\n",
      "('https:':1\n",
      "==:1\n",
      "document.location.protocol:1\n",
      "?:1\n",
      "'https://ssl':1\n",
      "::1\n",
      "'http://www'):1\n",
      "+:1\n",
      "'.google-analytics.com/ga.js';:1\n",
      "s:1\n",
      "document.getElementsByTagName('script')[0];:1\n",
      "s.parentNode.insertBefore(ga,:1\n",
      "s);:1\n",
      "})();:1\n",
      "Notice::1\n",
      "While:1\n",
      "Javascript:2\n",
      "is:12\n",
      "not:1\n",
      "essential:1\n",
      "for:10\n",
      "this:2\n",
      "website,:1\n",
      "your:4\n",
      "interaction:1\n",
      "with:7\n",
      "the:17\n",
      "content:2\n",
      "will:1\n",
      "be:3\n",
      "limited.:1\n",
      "Please:1\n",
      "turn:1\n",
      "on:4\n",
      "full:1\n",
      "experience.:1\n",
      "Skip:1\n",
      "▼:1\n",
      "Close:1\n",
      "Python:53\n",
      "PSF:4\n",
      "Docs:6\n",
      "PyPI:3\n",
      "Jobs:2\n",
      "Community:7\n",
      "▲:3\n",
      "The:5\n",
      "Network:1\n",
      "≡:1\n",
      "Menu:1\n",
      "Search:1\n",
      "This:1\n",
      "Site:1\n",
      "GO:1\n",
      "A:2\n",
      "Smaller:1\n",
      "Larger:1\n",
      "Reset:1\n",
      "Socialize:1\n",
      "Google+:1\n",
      "Facebook:1\n",
      "Twitter:1\n",
      "Chat:1\n",
      "IRC:3\n",
      "Sign:3\n",
      "In:2\n",
      "Up:1\n",
      "/:4\n",
      "Register:1\n",
      "About:2\n",
      "Applications:2\n",
      "Quotes:2\n",
      "Getting:2\n",
      "Started:3\n",
      "Help:3\n",
      "Brochure:2\n",
      "Downloads:2\n",
      "All:3\n",
      "releases:2\n",
      "Source:2\n",
      "code:4\n",
      "Windows:3\n",
      "Mac:2\n",
      "OS:3\n",
      "X:2\n",
      "Other:2\n",
      "Platforms:2\n",
      "License:2\n",
      "Alternative:2\n",
      "Implementations:2\n",
      "Documentation:3\n",
      "Audio/Visual:2\n",
      "Talks:2\n",
      "Beginner's:2\n",
      "Guide:6\n",
      "Developer's:3\n",
      "FAQ:2\n",
      "Non-English:2\n",
      "PEP:2\n",
      "Index:2\n",
      "Books:2\n",
      "Essays:2\n",
      "Diversity:3\n",
      "Mailing:2\n",
      "Lists:4\n",
      "Forums:2\n",
      "Conferences:2\n",
      "Special:2\n",
      "Interest:2\n",
      "Groups:2\n",
      "Wiki:2\n",
      "Logo:2\n",
      "Merchandise:2\n",
      "Awards:2\n",
      "Code:2\n",
      "of:19\n",
      "Conduct:2\n",
      "Success:3\n",
      "Stories:3\n",
      "Arts:2\n",
      "Business:2\n",
      "Education:2\n",
      "Engineering:2\n",
      "Government:2\n",
      "Scientific:3\n",
      "Software:6\n",
      "Development:2\n",
      "News:11\n",
      "PyCon:2\n",
      "Events:11\n",
      "User:4\n",
      "Group:4\n",
      "Archive:4\n",
      "Submit:3\n",
      "an:3\n",
      "Event:3\n",
      ">_:1\n",
      "Launch:1\n",
      "Interactive:1\n",
      "Shell:1\n",
      "#:9\n",
      "3::4\n",
      "Fibonacci:1\n",
      "series:1\n",
      "up:2\n",
      "n:1\n",
      ">>>:24\n",
      "def:1\n",
      "fib(n)::1\n",
      "a,:2\n",
      "b:2\n",
      "0,:1\n",
      "1:6\n",
      "while:2\n",
      "a:10\n",
      "<:1\n",
      "n::1\n",
      "print(a,:1\n",
      "end=':1\n",
      "'):1\n",
      "b,:1\n",
      "a+b:1\n",
      "print():1\n",
      "fib(1000):1\n",
      "0:1\n",
      "2:3\n",
      "3:8\n",
      "5:2\n",
      "8:2\n",
      "13:1\n",
      "21:1\n",
      "34:1\n",
      "55:1\n",
      "89:1\n",
      "144:1\n",
      "233:1\n",
      "377:1\n",
      "610:1\n",
      "987:1\n",
      "Functions:1\n",
      "Defined:1\n",
      "core:1\n",
      "extensible:1\n",
      "programming:4\n",
      "defining:2\n",
      "functions.:2\n",
      "allows:1\n",
      "mandatory:1\n",
      "and:23\n",
      "optional:1\n",
      "arguments,:2\n",
      "keyword:1\n",
      "even:1\n",
      "arbitrary:1\n",
      "argument:1\n",
      "lists.:1\n",
      "More:9\n",
      "about:3\n",
      "functions:2\n",
      "in:8\n",
      "List:2\n",
      "comprehensions:1\n",
      "fruits:1\n",
      "['Banana',:1\n",
      "'Apple',:1\n",
      "'Lime']:1\n",
      "loud_fruits:1\n",
      "[fruit.upper():1\n",
      "fruit:1\n",
      "fruits]:1\n",
      "print(loud_fruits):1\n",
      "['BANANA',:1\n",
      "'APPLE',:1\n",
      "'LIME']:1\n",
      "enumerate:1\n",
      "function:1\n",
      "list(enumerate(fruits)):1\n",
      "[(0,:1\n",
      "'Banana'),:1\n",
      "(1,:1\n",
      "'Apple'),:1\n",
      "(2,:1\n",
      "'Lime')]:1\n",
      "Compound:1\n",
      "Data:1\n",
      "Types:1\n",
      "(known:1\n",
      "as:2\n",
      "arrays:1\n",
      "other:4\n",
      "languages):1\n",
      "are:4\n",
      "one:1\n",
      "compound:1\n",
      "data:1\n",
      "types:1\n",
      "that:5\n",
      "understands.:1\n",
      "can:3\n",
      "indexed,:1\n",
      "sliced:1\n",
      "manipulated:1\n",
      "built-in:1\n",
      "lists:1\n",
      "Simple:2\n",
      "arithmetic:1\n",
      "0.5:1\n",
      "**:1\n",
      "17:2\n",
      "classic:1\n",
      "division:2\n",
      "returns:1\n",
      "float:1\n",
      "5.666666666666667:1\n",
      "//:1\n",
      "floor:1\n",
      "Intuitive:1\n",
      "Interpretation:1\n",
      "Calculations:1\n",
      "simple:2\n",
      "Python,:1\n",
      "expression:1\n",
      "syntax:2\n",
      "straightforward::1\n",
      "operators:1\n",
      "+,:1\n",
      "-,:1\n",
      "*:2\n",
      "work:3\n",
      "expected;:1\n",
      "parentheses:1\n",
      "():1\n",
      "used:2\n",
      "grouping.:1\n",
      "math:1\n",
      "3.:1\n",
      "output:1\n",
      "(with:1\n",
      "Unicode):1\n",
      "print(\"Hello,:1\n",
      "I'm:2\n",
      "Python!\"):1\n",
      "Hello,:1\n",
      "Python!:1\n",
      "Input,:1\n",
      "assignment:1\n",
      "name:1\n",
      "input('What:1\n",
      "name?\\n'):1\n",
      "print('Hi,:1\n",
      "%s.':1\n",
      "%:1\n",
      "name):1\n",
      "What:1\n",
      "name?:1\n",
      "Hi,:1\n",
      "Python.:2\n",
      "Quick:1\n",
      "&:3\n",
      "Easy:1\n",
      "Learn:3\n",
      "Experienced:1\n",
      "programmers:1\n",
      "any:1\n",
      "language:2\n",
      "pick:1\n",
      "very:1\n",
      "quickly,:1\n",
      "beginners:1\n",
      "find:1\n",
      "clean:1\n",
      "indentation:1\n",
      "structure:1\n",
      "easy:2\n",
      "learn.:1\n",
      "Whet:1\n",
      "appetite:1\n",
      "our:2\n",
      "overview.:1\n",
      "For:1\n",
      "loop:1\n",
      "list:2\n",
      "numbers:1\n",
      "[2,:1\n",
      "4,:1\n",
      "6,:1\n",
      "8]:1\n",
      "product:5\n",
      "number:2\n",
      "numbers::1\n",
      "...:7\n",
      "print('The:1\n",
      "is:',:1\n",
      "product):1\n",
      "is::1\n",
      "384:1\n",
      "Flow:1\n",
      "You’d:1\n",
      "Expect:1\n",
      "knows:1\n",
      "usual:1\n",
      "control:3\n",
      "flow:2\n",
      "statements:1\n",
      "languages:1\n",
      "speak:1\n",
      "—:2\n",
      "if,:1\n",
      "for,:1\n",
      "range:1\n",
      "some:1\n",
      "its:1\n",
      "own:1\n",
      "twists,:1\n",
      "course.:1\n",
      "tools:1\n",
      "lets:1\n",
      "you:1\n",
      "quickly:1\n",
      "integrate:1\n",
      "systems:1\n",
      "more:2\n",
      "effectively.:1\n",
      "Get:1\n",
      "Whether:1\n",
      "you're:2\n",
      "new:1\n",
      "or:2\n",
      "experienced:1\n",
      "developer,:1\n",
      "it's:1\n",
      "learn:1\n",
      "use:1\n",
      "Start:1\n",
      "Beginner’s:1\n",
      "Download:1\n",
      "source:1\n",
      "installers:1\n",
      "available:3\n",
      "download:1\n",
      "all:1\n",
      "versions!:1\n",
      "Not:1\n",
      "sure:1\n",
      "which:1\n",
      "version:1\n",
      "use?:1\n",
      "Check:1\n",
      "here.:2\n",
      "Latest::1\n",
      "3.6.5:1\n",
      "-:1\n",
      "2.7.14:1\n",
      "Python's:1\n",
      "standard:1\n",
      "library,:1\n",
      "along:1\n",
      "tutorials:1\n",
      "guides,:1\n",
      "online.:1\n",
      "docs.python.org:1\n",
      "Looking:1\n",
      "have:1\n",
      "related:1\n",
      "position:1\n",
      "trying:1\n",
      "hire:1\n",
      "for?:1\n",
      "Our:1\n",
      "relaunched:1\n",
      "community-run:1\n",
      "job:1\n",
      "board:1\n",
      "place:1\n",
      "go.:1\n",
      "jobs.python.org:1\n",
      "Latest:1\n",
      "2018-04-16:1\n",
      "New:1\n",
      "launched,:1\n",
      "legacy:1\n",
      "shutting:1\n",
      "down:1\n",
      "April:1\n",
      "30:1\n",
      "Starting:1\n",
      "2018-04-15:1\n",
      "2.7.15:1\n",
      "release:1\n",
      "candidate:1\n",
      "now:1\n",
      "download.:1\n",
      "2018-04-14:1\n",
      "On:2\n",
      "behalf:2\n",
      "PyPA,:2\n",
      "I:2\n",
      "am:2\n",
      "pleased:2\n",
      "announce:2\n",
      "2018-03-31:1\n",
      "2018-03-30:1\n",
      "3.7.0b3:1\n",
      "third:1\n",
      "four:1\n",
      "planned:1\n",
      "beta:1\n",
      "previews:1\n",
      "Upcoming:1\n",
      "2018-04-26:2\n",
      "Sprint:2\n",
      "Night::2\n",
      "Warehouse:2\n",
      "(Co-presented:2\n",
      "by:5\n",
      "NYC,Python:1\n",
      "PyLadies):2\n",
      "NYC:1\n",
      "2018-04-27:1\n",
      "HackWeakEnd:1\n",
      "Technology:1\n",
      "2018-04-28:2\n",
      "PyCamp:2\n",
      "Baradero:2\n",
      "2018:2\n",
      "(PyAr:2\n",
      "Community):1\n",
      "Comunity):1\n",
      "ILM:1\n",
      "runs:1\n",
      "batch:1\n",
      "processing:1\n",
      "environment:1\n",
      "capable:1\n",
      "modeling,:1\n",
      "rendering:1\n",
      "compositing:1\n",
      "tens:1\n",
      "thousands:1\n",
      "motion:1\n",
      "picture:1\n",
      "frames:1\n",
      "per:1\n",
      "day.:1\n",
      "Thousands:1\n",
      "machines:1\n",
      "running:1\n",
      "Linux,:1\n",
      "IRIX,:1\n",
      "Compaq:1\n",
      "Tru64,:1\n",
      "X,:1\n",
      "Solaris,:1\n",
      "join:1\n",
      "together:1\n",
      "provide:1\n",
      "production:2\n",
      "pipeline:1\n",
      "~800:1\n",
      "users:1\n",
      "daily.:1\n",
      "Speed:1\n",
      "development:1\n",
      "key,:1\n",
      "was:1\n",
      "faster:1\n",
      "way:1\n",
      "(and:1\n",
      "re-code):1\n",
      "programs:1\n",
      "pipeline.:1\n",
      "Industrial:1\n",
      "Light:1\n",
      "Magic:1\n",
      "Runs:1\n",
      "Tim:1\n",
      "Fortenberry:1\n",
      "Use:1\n",
      "for…:1\n",
      "Web:1\n",
      "Development::3\n",
      "Django,:1\n",
      "Pyramid,:1\n",
      "Bottle,:1\n",
      "Tornado,:1\n",
      "Flask,:1\n",
      "web2py:1\n",
      "GUI:1\n",
      "tkInter,:1\n",
      "PyGObject,:1\n",
      "PyQt,:1\n",
      "PySide,:1\n",
      "Kivy,:1\n",
      "wxPython:1\n",
      "Numeric::1\n",
      "SciPy,:1\n",
      "Pandas,:1\n",
      "IPython:1\n",
      "Buildbot,:1\n",
      "Trac,:1\n",
      "Roundup:1\n",
      "System:1\n",
      "Administration::1\n",
      "Ansible,:1\n",
      "Salt,:1\n",
      "OpenStack:1\n",
      "Enhancement:1\n",
      "Proposals:1\n",
      "(PEPs)::1\n",
      "future:1\n",
      "discussed:1\n",
      "RSS:1\n",
      "Foundation:3\n",
      "mission:1\n",
      "promote,:1\n",
      "protect,:1\n",
      "advance:1\n",
      "language,:1\n",
      "support:1\n",
      "facilitate:1\n",
      "growth:1\n",
      "diverse:1\n",
      "international:1\n",
      "community:1\n",
      "programmers.:1\n",
      "Become:1\n",
      "Member:1\n",
      "Donate:1\n",
      "Back:2\n",
      "Top:2\n",
      "Contributing:1\n",
      "Issue:1\n",
      "Tracker:1\n",
      "python-dev:1\n",
      "Core:1\n",
      "Mentorship:1\n",
      "General:1\n",
      "Contact:1\n",
      "Initiatives:1\n",
      "Website:1\n",
      "Bug:1\n",
      "Status:1\n",
      "Copyright:1\n",
      "©2001-2018.:1\n",
      "Legal:1\n",
      "Statements:1\n",
      "Privacy:1\n",
      "Policy:1\n",
      "Powered:1\n",
      "Rackspace:1\n",
      "window.jQuery:1\n",
      "document.write('<script:1\n",
      "src=\"/static/js/libs/jquery-1.8.2.min.js\"><\\/script>'):1\n"
     ]
    }
   ],
   "source": [
    "for k,v in Freq_dist_nltk.items():\n",
    "    print(str(k)+':'+str(v))"
   ]
  },
  {
   "cell_type": "code",
   "execution_count": 14,
   "metadata": {},
   "outputs": [
    {
     "data": {
      "text/plain": [
       "<matplotlib.figure.Figure at 0x1ed6eb0d748>"
      ]
     },
     "metadata": {},
     "output_type": "display_data"
    }
   ],
   "source": [
    "import matplotlib\n",
    "Freq_dist_nltk.plot(50,cumulative = False)"
   ]
  },
  {
   "cell_type": "code",
   "execution_count": 15,
   "metadata": {},
   "outputs": [
    {
     "data": {
      "image/png": "[encoded data removed]",
      "text/plain": [
       "<matplotlib.figure.Figure at 0x1ed708dd978>"
      ]
     },
     "metadata": {},
     "output_type": "display_data"
    }
   ],
   "source": [
    "stopwords=[word.strip().lower() for word in open(\"ESW1.txt\")]\n",
    "clean_tokens=[tok for tok in tokens if len(tok.lower())>1 and (tok.lower()not in stopwords)]\n",
    "Freq_dist_nltk = nltk.FreqDist(clean_tokens)\n",
    "Freq_dist_nltk.plot(50,cumulative = False)"
   ]
  },
  {
   "cell_type": "code",
   "execution_count": 25,
   "metadata": {},
   "outputs": [
    {
     "data": {
      "text/plain": [
       "<matplotlib.image.AxesImage at 0x1ed70ac3fd0>"
      ]
     },
     "execution_count": 25,
     "metadata": {},
     "output_type": "execute_result"
    },
    {
     "data": {
      "image/png": "[encoded data removed]",
      "text/plain": [
       "<matplotlib.figure.Figure at 0x1ed70b062b0>"
      ]
     },
     "metadata": {},
     "output_type": "display_data"
    }
   ],
   "source": [
    "#make a word cloud\n",
    "from wordcloud import WordCloud\n",
    "f = open('testCloud.txt','w')\n",
    "for word in clean_tokens:\n",
    "    f.write(str(word.encode('utf-8'))+'\\n')\n",
    "f.close()\n",
    "f = open('testCloud.txt','r').read()\n",
    "wordcloud = WordCloud(background_color=\"white\",width=1000, height=860, margin=2).generate(f)\n",
    "matplotlib.pyplot.imshow(wordcloud)"
   ]
  },
  {
   "cell_type": "code",
   "execution_count": 28,
   "metadata": {},
   "outputs": [
    {
     "name": "stdout",
     "output_type": "stream",
     "text": [
      "['This is an example sent.', 'The sentence splitter will split on sent markers.', 'Ohh really !', '!']\n"
     ]
    }
   ],
   "source": [
    "#2.3 语句分离  split by '.'\n",
    "inputstring='This is an example sent. The sentence splitter will split on sent markers. Ohh really !!'\n",
    "from nltk.tokenize import sent_tokenize\n",
    "all_sent = sent_tokenize(inputstring)\n",
    "print(all_sent)"
   ]
  },
  {
   "cell_type": "code",
   "execution_count": 27,
   "metadata": {},
   "outputs": [
    {
     "name": "stdout",
     "output_type": "stream",
     "text": [
      "[nltk_data] Downloading package punkt to\n",
      "[nltk_data]     C:\\Users\\20781\\AppData\\Roaming\\nltk_data...\n",
      "[nltk_data]   Unzipping tokenizers\\punkt.zip.\n"
     ]
    },
    {
     "data": {
      "text/plain": [
       "True"
      ]
     },
     "execution_count": 27,
     "metadata": {},
     "output_type": "execute_result"
    }
   ],
   "source": [
    "#import nltk\n",
    "#nltk.download('punkt')\n",
    "#because something wrong I have to use this command"
   ]
  },
  {
   "cell_type": "code",
   "execution_count": 29,
   "metadata": {},
   "outputs": [
    {
     "name": "stdout",
     "output_type": "stream",
     "text": [
      "['Hi', 'Everyone!', 'hola', 'gr8']\n"
     ]
    }
   ],
   "source": [
    "#2.4 tokenizer\n",
    "s='Hi Everyone! hola gr8'\n",
    "print(s.split())"
   ]
  },
  {
   "cell_type": "code",
   "execution_count": 30,
   "metadata": {},
   "outputs": [
    {
     "data": {
      "text/plain": [
       "['Hi', 'Everyone', '!', 'hola', 'gr8']"
      ]
     },
     "execution_count": 30,
     "metadata": {},
     "output_type": "execute_result"
    }
   ],
   "source": [
    "from nltk.tokenize import word_tokenize\n",
    "word_tokenize(s)#use word_tokenize to seperate the sentence."
   ]
  },
  {
   "cell_type": "code",
   "execution_count": 60,
   "metadata": {},
   "outputs": [
    {
     "data": {
      "text/plain": [
       "['Hi', 'Everyone', 'hola', 'gr8']"
      ]
     },
     "execution_count": 60,
     "metadata": {},
     "output_type": "execute_result"
    }
   ],
   "source": [
    "from nltk.tokenize import regexp_tokenize,wordpunct_tokenize,blankline_tokenize\n",
    "regexp_tokenize(s,pattern='\\w+')#用一种正则表达式来"
   ]
  },
  {
   "cell_type": "code",
   "execution_count": 33,
   "metadata": {},
   "outputs": [
    {
     "data": {
      "text/plain": [
       "['8']"
      ]
     },
     "execution_count": 33,
     "metadata": {},
     "output_type": "execute_result"
    }
   ],
   "source": [
    "regexp_tokenize(s,pattern='\\d+')"
   ]
  },
  {
   "cell_type": "code",
   "execution_count": 34,
   "metadata": {},
   "outputs": [
    {
     "data": {
      "text/plain": [
       "['Hi', 'Everyone', '!', 'hola', 'gr8']"
      ]
     },
     "execution_count": 34,
     "metadata": {},
     "output_type": "execute_result"
    }
   ],
   "source": [
    "wordpunct_tokenize(s)"
   ]
  },
  {
   "cell_type": "code",
   "execution_count": 35,
   "metadata": {},
   "outputs": [
    {
     "data": {
      "text/plain": [
       "['Hi Everyone! hola gr8']"
      ]
     },
     "execution_count": 35,
     "metadata": {},
     "output_type": "execute_result"
    }
   ],
   "source": [
    "blankline_tokenize(s)"
   ]
  },
  {
   "cell_type": "code",
   "execution_count": 38,
   "metadata": {},
   "outputs": [
    {
     "data": {
      "text/plain": [
       "'eat'"
      ]
     },
     "execution_count": 38,
     "metadata": {},
     "output_type": "execute_result"
    }
   ],
   "source": [
    "#2.5 stemming提取词干\n",
    "from nltk.stem import PorterStemmer\n",
    "from nltk.stem.lancaster import LancasterStemmer\n",
    "#from nltk.stem.SnowBall import SnowballStemmer#there is something wrong that no snowball\n",
    "pst = PorterStemmer()#create obj of the porterStemmer\n",
    "lst = LancasterStemmer()#create obj of LancasterStemmer\n",
    "lst.stem(\"eating\")"
   ]
  },
  {
   "cell_type": "code",
   "execution_count": 40,
   "metadata": {},
   "outputs": [
    {
     "data": {
      "text/plain": [
       "'intrduct'"
      ]
     },
     "execution_count": 40,
     "metadata": {},
     "output_type": "execute_result"
    }
   ],
   "source": [
    "pst.stem(\"introduction\")"
   ]
  },
  {
   "cell_type": "code",
   "execution_count": 51,
   "metadata": {},
   "outputs": [
    {
     "data": {
      "text/plain": [
       "'eating'"
      ]
     },
     "execution_count": 51,
     "metadata": {},
     "output_type": "execute_result"
    }
   ],
   "source": [
    "#2.6 lemmatization  词形还原\n",
    "from nltk.stem import WordNetLemmatizer\n",
    "wlem=WordNetLemmatizer()\n",
    "wlem.lemmatize('eating')#????what?"
   ]
  },
  {
   "cell_type": "code",
   "execution_count": 54,
   "metadata": {},
   "outputs": [],
   "source": [
    "#2.7 stop word removal\n",
    "from nltk.corpus import stopwords\n",
    "stoplist = stopwords.words('english')#config the language name\n",
    "text = 'this is just a text. I want to test the stop word removal function.'\n",
    "cleanwordlist = [word for word in text.split() if word not in stoplist]"
   ]
  },
  {
   "cell_type": "code",
   "execution_count": 55,
   "metadata": {},
   "outputs": [
    {
     "name": "stdout",
     "output_type": "stream",
     "text": [
      "['text.', 'I', 'want', 'test', 'stop', 'word', 'removal', 'function.']\n"
     ]
    }
   ],
   "source": [
    "print(cleanwordlist)"
   ]
  },
  {
   "cell_type": "code",
   "execution_count": 56,
   "metadata": {},
   "outputs": [
    {
     "ename": "NameError",
     "evalue": "name 'token' is not defined",
     "output_type": "error",
     "traceback": [
      "\u001b[1;31m---------------------------------------------------------------------------\u001b[0m",
      "\u001b[1;31mNameError\u001b[0m                                 Traceback (most recent call last)",
      "\u001b[1;32m<ipython-input-56-5604d1aad17d>\u001b[0m in \u001b[0;36m<module>\u001b[1;34m()\u001b[0m\n\u001b[0;32m      1\u001b[0m \u001b[1;31m#2.8 remove the rarest word\u001b[0m\u001b[1;33m\u001b[0m\u001b[1;33m\u001b[0m\u001b[0m\n\u001b[1;32m----> 2\u001b[1;33m \u001b[0mfreq_dist\u001b[0m \u001b[1;33m=\u001b[0m \u001b[0mnltk\u001b[0m\u001b[1;33m.\u001b[0m\u001b[0mFreqDist\u001b[0m\u001b[1;33m(\u001b[0m\u001b[0mtoken\u001b[0m\u001b[1;33m)\u001b[0m\u001b[1;33m\u001b[0m\u001b[0m\n\u001b[0m\u001b[0;32m      3\u001b[0m \u001b[0mrarewords\u001b[0m \u001b[1;33m=\u001b[0m \u001b[0mfreq_dist\u001b[0m\u001b[1;33m.\u001b[0m\u001b[0mkeys\u001b[0m\u001b[1;33m(\u001b[0m\u001b[1;33m)\u001b[0m\u001b[1;33m[\u001b[0m\u001b[1;33m-\u001b[0m\u001b[1;36m50\u001b[0m\u001b[1;33m:\u001b[0m\u001b[1;33m]\u001b[0m\u001b[1;33m\u001b[0m\u001b[0m\n\u001b[0;32m      4\u001b[0m \u001b[0mafter_rare_words\u001b[0m \u001b[1;33m=\u001b[0m \u001b[1;33m[\u001b[0m\u001b[0mword\u001b[0m \u001b[1;32mfor\u001b[0m \u001b[0mword\u001b[0m \u001b[1;32min\u001b[0m \u001b[0mtoken\u001b[0m \u001b[1;32mnot\u001b[0m \u001b[1;32min\u001b[0m \u001b[0mrarewords\u001b[0m\u001b[1;33m]\u001b[0m\u001b[1;33m\u001b[0m\u001b[0m\n",
      "\u001b[1;31mNameError\u001b[0m: name 'token' is not defined"
     ]
    }
   ],
   "source": [
    "#2.8 remove the rarest word去除出现次数最少的单词，减少噪音\n",
    "freq_dist = nltk.FreqDist(token)\n",
    "rarewords = freq_dist.keys()[-50:]\n",
    "after_rare_words = [word for word in token not in rarewords]"
   ]
  },
  {
   "cell_type": "code",
   "execution_count": 65,
   "metadata": {},
   "outputs": [
    {
     "data": {
      "text/plain": [
       "3"
      ]
     },
     "execution_count": 65,
     "metadata": {},
     "output_type": "execute_result"
    }
   ],
   "source": [
    "#2.9 correct the spell   but what's the meaning?\n",
    "from nltk.metrics import edit_distance\n",
    "edit_distance(\"rain\",\"shine\")"
   ]
  },
  {
   "cell_type": "code",
   "execution_count": null,
   "metadata": {},
   "outputs": [],
   "source": []
  },
  {
   "cell_type": "code",
   "execution_count": null,
   "metadata": {
    "collapsed": true
   },
   "outputs": [],
   "source": []
  }
 ],
 "metadata": {
  "kernelspec": {
   "display_name": "Python [conda env:tensorflow]",
   "language": "python",
   "name": "conda-env-tensorflow-py"
  },
  "language_info": {
   "codemirror_mode": {
    "name": "ipython",
    "version": 3
   },
   "file_extension": ".py",
   "mimetype": "text/x-python",
   "name": "python",
   "nbconvert_exporter": "python",
   "pygments_lexer": "ipython3",
   "version": "3.6.2"
  }
 },
 "nbformat": 4,
 "nbformat_minor": 2
}
