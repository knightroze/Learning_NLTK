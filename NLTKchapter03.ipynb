{
 "cells": [
  {
   "cell_type": "code",
   "execution_count": 6,
   "metadata": {},
   "outputs": [
    {
     "name": "stdout",
     "output_type": "stream",
     "text": [
      "[('I', 'PRP'), ('was', 'VBD'), ('watching', 'VBG'), ('TV', 'NN'), (',', ','), ('computer', 'NN'), ('and', 'CC'), ('linux', 'NN')]\n"
     ]
    }
   ],
   "source": [
    "#3.1 初步了解pos\n",
    "import nltk\n",
    "from nltk import word_tokenize\n",
    "s = \"I was watching TV, computer and linux\"\n",
    "print(nltk.pos_tag(word_tokenize(s)))"
   ]
  },
  {
   "cell_type": "code",
   "execution_count": 7,
   "metadata": {},
   "outputs": [
    {
     "name": "stdout",
     "output_type": "stream",
     "text": [
      "['TV', 'computer', 'linux']\n"
     ]
    }
   ],
   "source": [
    "tagged=nltk.pos_tag(word_tokenize(s))\n",
    "allnoun = [word for word,pos in tagged if pos in ['NN','NNP']]\n",
    "print(allnoun)"
   ]
  },
  {
   "cell_type": "code",
   "execution_count": 12,
   "metadata": {},
   "outputs": [
    {
     "data": {
      "text/plain": [
       "FreqDist({\"'\": 46,\n",
       "          \"''\": 702,\n",
       "          '(': 148,\n",
       "          '(-HL': 20,\n",
       "          ')': 151,\n",
       "          ')-HL': 20,\n",
       "          '*': 256,\n",
       "          '*-HL': 1,\n",
       "          ',': 5133,\n",
       "          ',-HL': 55,\n",
       "          '--': 300,\n",
       "          '.': 4452,\n",
       "          '.-HL': 20,\n",
       "          ':': 137,\n",
       "          ':-HL': 12,\n",
       "          'ABL': 21,\n",
       "          'ABN': 183,\n",
       "          'ABN-HL': 1,\n",
       "          'ABX': 73,\n",
       "          'AP': 923,\n",
       "          'AP$': 1,\n",
       "          'AP-HL': 7,\n",
       "          'AP-TL': 1,\n",
       "          'AT': 8893,\n",
       "          'AT-HL': 14,\n",
       "          'AT-TL': 50,\n",
       "          'BE': 525,\n",
       "          'BE-HL': 1,\n",
       "          'BED': 252,\n",
       "          'BED*': 1,\n",
       "          'BEDZ': 716,\n",
       "          'BEDZ*': 3,\n",
       "          'BEDZ-HL': 1,\n",
       "          'BEG': 57,\n",
       "          'BEM': 13,\n",
       "          'BEN': 212,\n",
       "          'BER': 328,\n",
       "          'BER*': 4,\n",
       "          'BER-HL': 1,\n",
       "          'BER-TL': 1,\n",
       "          'BEZ': 730,\n",
       "          'BEZ*': 8,\n",
       "          'BEZ-HL': 3,\n",
       "          'CC': 2664,\n",
       "          'CC-HL': 7,\n",
       "          'CC-TL': 46,\n",
       "          'CD': 2020,\n",
       "          'CD$': 2,\n",
       "          'CD-HL': 50,\n",
       "          'CD-TL': 96,\n",
       "          'CS': 1509,\n",
       "          'CS-HL': 1,\n",
       "          'DO': 63,\n",
       "          'DO*': 17,\n",
       "          'DO-HL': 1,\n",
       "          'DOD': 64,\n",
       "          'DOD*': 15,\n",
       "          'DOZ': 26,\n",
       "          'DOZ*': 13,\n",
       "          'DT': 589,\n",
       "          'DT$': 1,\n",
       "          'DT+BEZ': 12,\n",
       "          'DT-HL': 1,\n",
       "          'DTI': 205,\n",
       "          'DTI-HL': 2,\n",
       "          'DTS': 136,\n",
       "          'DTX': 8,\n",
       "          'EX': 161,\n",
       "          'EX+BEZ': 2,\n",
       "          'FW-*': 1,\n",
       "          'FW-AT': 3,\n",
       "          'FW-AT-HL': 1,\n",
       "          'FW-AT-TL': 6,\n",
       "          'FW-CC': 1,\n",
       "          'FW-CD': 1,\n",
       "          'FW-DT': 1,\n",
       "          'FW-IN': 14,\n",
       "          'FW-IN+AT-TL': 1,\n",
       "          'FW-IN+NN': 2,\n",
       "          'FW-IN+NN-TL': 1,\n",
       "          'FW-IN-TL': 1,\n",
       "          'FW-JJ': 3,\n",
       "          'FW-JJ-TL': 12,\n",
       "          'FW-NN': 22,\n",
       "          'FW-NN-TL': 16,\n",
       "          'FW-NNS': 2,\n",
       "          'FW-PP$-NC': 1,\n",
       "          'FW-VB': 1,\n",
       "          'FW-VB-NC': 1,\n",
       "          'FW-WDT': 1,\n",
       "          'HV': 265,\n",
       "          'HVD': 262,\n",
       "          'HVD*': 2,\n",
       "          'HVD-HL': 1,\n",
       "          'HVG': 14,\n",
       "          'HVN': 18,\n",
       "          'HVZ': 301,\n",
       "          'HVZ*': 1,\n",
       "          'IN': 10616,\n",
       "          'IN-HL': 65,\n",
       "          'IN-TL': 164,\n",
       "          'JJ': 4392,\n",
       "          'JJ-HL': 46,\n",
       "          'JJ-NC': 1,\n",
       "          'JJ-TL': 689,\n",
       "          'JJR': 145,\n",
       "          'JJR-HL': 4,\n",
       "          'JJR-NC': 1,\n",
       "          'JJR-TL': 4,\n",
       "          'JJS': 49,\n",
       "          'JJS-TL': 2,\n",
       "          'JJT': 100,\n",
       "          'JJT-HL': 2,\n",
       "          'MD': 1031,\n",
       "          'MD*': 43,\n",
       "          'MD*-HL': 1,\n",
       "          'MD+HV': 1,\n",
       "          'MD-HL': 5,\n",
       "          'MD-TL': 1,\n",
       "          'NN': 13162,\n",
       "          'NN$': 210,\n",
       "          'NN$-HL': 2,\n",
       "          'NN$-TL': 69,\n",
       "          'NN-HL': 171,\n",
       "          'NN-NC': 3,\n",
       "          'NN-TL': 2486,\n",
       "          'NN-TL-HL': 12,\n",
       "          'NNS': 5066,\n",
       "          'NNS$': 50,\n",
       "          'NNS$-HL': 2,\n",
       "          'NNS$-TL': 20,\n",
       "          'NNS-HL': 92,\n",
       "          'NNS-TL': 344,\n",
       "          'NNS-TL-HL': 1,\n",
       "          'NP': 6866,\n",
       "          'NP$': 279,\n",
       "          'NP$-TL': 11,\n",
       "          'NP+BEZ': 1,\n",
       "          'NP-HL': 186,\n",
       "          'NP-TL': 741,\n",
       "          'NP-TL-HL': 1,\n",
       "          'NPS': 215,\n",
       "          'NPS$': 17,\n",
       "          'NPS$-TL': 1,\n",
       "          'NPS-HL': 3,\n",
       "          'NPS-TL': 15,\n",
       "          'NR': 495,\n",
       "          'NR$': 24,\n",
       "          'NR$-TL': 1,\n",
       "          'NR-HL': 2,\n",
       "          'NR-TL': 14,\n",
       "          'OD': 309,\n",
       "          'OD-HL': 1,\n",
       "          'OD-TL': 30,\n",
       "          'PN': 89,\n",
       "          'PN$': 1,\n",
       "          'PN+HVZ': 1,\n",
       "          'PN-HL': 1,\n",
       "          'PP$': 1051,\n",
       "          'PP$$': 3,\n",
       "          'PP$-TL': 1,\n",
       "          'PPL': 36,\n",
       "          'PPLS': 21,\n",
       "          'PPO': 412,\n",
       "          'PPS': 1056,\n",
       "          'PPS+BEZ': 31,\n",
       "          'PPS+BEZ-HL': 1,\n",
       "          'PPS+HVZ': 4,\n",
       "          'PPS+MD': 8,\n",
       "          'PPSS': 602,\n",
       "          'PPSS+BEM': 18,\n",
       "          'PPSS+BER': 20,\n",
       "          'PPSS+HV': 19,\n",
       "          'PPSS+HVD': 1,\n",
       "          'PPSS+MD': 31,\n",
       "          'PPSS-HL': 1,\n",
       "          'QL': 468,\n",
       "          'QL-TL': 1,\n",
       "          'QLP': 12,\n",
       "          'RB': 2166,\n",
       "          'RB$': 1,\n",
       "          'RB+BEZ': 1,\n",
       "          'RB-HL': 15,\n",
       "          'RB-TL': 8,\n",
       "          'RBR': 88,\n",
       "          'RBT': 5,\n",
       "          'RP': 482,\n",
       "          'RP-HL': 4,\n",
       "          'TO': 1237,\n",
       "          'TO-HL': 6,\n",
       "          'TO-TL': 1,\n",
       "          'UH': 12,\n",
       "          'UH-TL': 1,\n",
       "          'VB': 2440,\n",
       "          'VB+PPO': 1,\n",
       "          'VB-HL': 25,\n",
       "          'VB-TL': 8,\n",
       "          'VBD': 2524,\n",
       "          'VBD-HL': 6,\n",
       "          'VBD-TL': 1,\n",
       "          'VBG': 1398,\n",
       "          'VBG-HL': 12,\n",
       "          'VBG-TL': 15,\n",
       "          'VBN': 2269,\n",
       "          'VBN-HL': 53,\n",
       "          'VBN-TL': 87,\n",
       "          'VBN-TL-HL': 1,\n",
       "          'VBZ': 519,\n",
       "          'VBZ-HL': 39,\n",
       "          'WDT': 343,\n",
       "          'WDT+BEZ': 1,\n",
       "          'WP$': 22,\n",
       "          'WPO': 9,\n",
       "          'WPS': 395,\n",
       "          'WPS+BEZ': 2,\n",
       "          'WQL': 1,\n",
       "          'WRB': 328,\n",
       "          '``': 732})"
      ]
     },
     "execution_count": 12,
     "metadata": {},
     "output_type": "execute_result"
    }
   ],
   "source": [
    "#3.1.2  default tagger\n",
    "from nltk.corpus import brown\n",
    "import nltk\n",
    "tags = [tag for (word,tag) in brown.tagged_words(categories='news')]#基于brown语料库\n",
    "nltk.FreqDist(tags)"
   ]
  },
  {
   "cell_type": "code",
   "execution_count": 13,
   "metadata": {},
   "outputs": [
    {
     "name": "stdout",
     "output_type": "stream",
     "text": [
      "0.13089484257215028\n"
     ]
    }
   ],
   "source": [
    "brown_tagged_sents = brown.tagged_sents(categories='news')\n",
    "default_tagger = nltk.DefaultTagger('NN')\n",
    "print(default_tagger.evaluate(brown_tagged_sents))#计算标注准确率"
   ]
  },
  {
   "cell_type": "code",
   "execution_count": 15,
   "metadata": {},
   "outputs": [
    {
     "name": "stdout",
     "output_type": "stream",
     "text": [
      "0.8361407355726104\n"
     ]
    }
   ],
   "source": [
    "#3.1.3.1 N-gram tagger\n",
    "from nltk.tag import UnigramTagger\n",
    "from nltk.tag import DefaultTagger\n",
    "from nltk.tag import BigramTagger\n",
    "from nltk.tag import TrigramTagger\n",
    "train_data = brown_tagged_sents[:int(len(brown_tagged_sents)*0.9)]\n",
    "test_data = brown_tagged_sents[int(len(brown_tagged_sents)*0.9):]\n",
    "unigram_tagger=UnigramTagger(train_data,backoff=default_tagger)#只考虑每个token所能预测到的最高频率的标签\n",
    "print(unigram_tagger.evaluate(test_data))"
   ]
  },
  {
   "cell_type": "code",
   "execution_count": 16,
   "metadata": {},
   "outputs": [
    {
     "name": "stdout",
     "output_type": "stream",
     "text": [
      "0.8452108043456593\n"
     ]
    }
   ],
   "source": [
    "bigram_tagger=BigramTagger(train_data,backoff=unigram_tagger)#将给定单词以前前一个单词关联起来给定标签\n",
    "print(bigram_tagger.evaluate(test_data))"
   ]
  },
  {
   "cell_type": "code",
   "execution_count": 17,
   "metadata": {},
   "outputs": [
    {
     "name": "stdout",
     "output_type": "stream",
     "text": [
      "0.843317053722715\n"
     ]
    }
   ],
   "source": [
    "trigram_tagger = TrigramTagger(train_data,backoff=bigram_tagger)#兼顾当前以及前两个单词\n",
    "print(trigram_tagger.evaluate(test_data))"
   ]
  },
  {
   "cell_type": "code",
   "execution_count": 18,
   "metadata": {},
   "outputs": [
    {
     "name": "stdout",
     "output_type": "stream",
     "text": [
      "0.31306687929831556\n"
     ]
    }
   ],
   "source": [
    "#3.1.3.2 基于正则表达式标注器\n",
    "from nltk.tag.sequential import RegexpTagger\n",
    "regexp_tagger = RegexpTagger([\n",
    "    (r'^-?[0-9]+(.[0-9]+)?$','CD'),#cardinal numbers\n",
    "    (r'(The|the|A|a|An|an)$','AT'),#articles\n",
    "    (r'.*able$','JJ'),             #adjectives\n",
    "    (r'.*ness$','NN'),             #nouns formed from adj\n",
    "    (r'.*ly$','RB'),               #adverbs\n",
    "    (r'.*s$','NNS'),               #plural nouns\n",
    "    (r'.*ing$','VBG'),             #gerunds\n",
    "    (r'.*ed$','VBD'),              #past tense verbs\n",
    "    (r'.*$','NN'),                 #nouns\n",
    "])\n",
    "print(regexp_tagger.evaluate(test_data))"
   ]
  },
  {
   "cell_type": "code",
   "execution_count": 28,
   "metadata": {},
   "outputs": [
    {
     "name": "stdout",
     "output_type": "stream",
     "text": [
      "(S\n",
      "  (PERSON Mark/NNP)\n",
      "  is/VBZ\n",
      "  studying/VBG\n",
      "  at/IN\n",
      "  (ORGANIZATION Stanford/NNP University/NNP)\n",
      "  in/IN\n",
      "  (GPE California/NNP))\n"
     ]
    }
   ],
   "source": [
    "#3.2NER 命名实体识别\n",
    "import nltk\n",
    "from nltk import ne_chunk\n",
    "sent = \"Mark is studying at Stanford University in California\"\n",
    "print(ne_chunk(nltk.pos_tag(word_tokenize(sent)),binary=False))"
   ]
  },
  {
   "cell_type": "code",
   "execution_count": 29,
   "metadata": {},
   "outputs": [
    {
     "ename": "ImportError",
     "evalue": "cannot import name 'NERTagger'",
     "output_type": "error",
     "traceback": [
      "\u001b[1;31m---------------------------------------------------------------------------\u001b[0m",
      "\u001b[1;31mImportError\u001b[0m                               Traceback (most recent call last)",
      "\u001b[1;32m<ipython-input-29-8dc979fc6c1b>\u001b[0m in \u001b[0;36m<module>\u001b[1;34m()\u001b[0m\n\u001b[1;32m----> 1\u001b[1;33m \u001b[1;32mfrom\u001b[0m \u001b[0mnltk\u001b[0m\u001b[1;33m.\u001b[0m\u001b[0mtag\u001b[0m\u001b[1;33m.\u001b[0m\u001b[0mstanford\u001b[0m \u001b[1;32mimport\u001b[0m \u001b[0mNERTagger\u001b[0m\u001b[1;33m\u001b[0m\u001b[0m\n\u001b[0m\u001b[0;32m      2\u001b[0m \u001b[0mst\u001b[0m \u001b[1;33m=\u001b[0m \u001b[0mNERTagger\u001b[0m\u001b[1;33m(\u001b[0m\u001b[1;34m'<PATH>/stanford-ner/classifiers/all.3class.distsim.crf.ser.gz'\u001b[0m\u001b[1;33m,\u001b[0m\u001b[1;34m'<PATH>/stanford-ner/stanford-ner.jar'\u001b[0m\u001b[1;33m)\u001b[0m\u001b[1;33m\u001b[0m\u001b[0m\n",
      "\u001b[1;31mImportError\u001b[0m: cannot import name 'NERTagger'"
     ]
    }
   ],
   "source": [
    "from nltk.tag.stanford import NERTagger\n",
    "st = NERTagger('<PATH>/stanford-ner/classifiers/all.3class.distsim.crf.ser.gz','<PATH>/stanford-ner/stanford-ner.jar')"
   ]
  },
  {
   "cell_type": "code",
   "execution_count": 31,
   "metadata": {},
   "outputs": [
    {
     "name": "stdout",
     "output_type": "stream",
     "text": [
      "[nltk_data] Error loading NERTagger: Package 'NERTagger' not found in\n",
      "[nltk_data]     index\n"
     ]
    },
    {
     "data": {
      "text/plain": [
       "False"
      ]
     },
     "execution_count": 31,
     "metadata": {},
     "output_type": "execute_result"
    }
   ],
   "source": []
  },
  {
   "cell_type": "code",
   "execution_count": null,
   "metadata": {
    "collapsed": true
   },
   "outputs": [],
   "source": []
  }
 ],
 "metadata": {
  "kernelspec": {
   "display_name": "Python [conda env:tensorflow]",
   "language": "python",
   "name": "conda-env-tensorflow-py"
  },
  "language_info": {
   "codemirror_mode": {
    "name": "ipython",
    "version": 3
   },
   "file_extension": ".py",
   "mimetype": "text/x-python",
   "name": "python",
   "nbconvert_exporter": "python",
   "pygments_lexer": "ipython3",
   "version": "3.6.2"
  }
 },
 "nbformat": 4,
 "nbformat_minor": 2
}
