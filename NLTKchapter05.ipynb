{
 "cells": [
  {
   "cell_type": "code",
   "execution_count": 3,
   "metadata": {},
   "outputs": [],
   "source": [
    "#ch05  NLP app\n",
    "import sys\n",
    "f = open('NLTKch5news.txt','r')\n",
    "news_content = f.read()"
   ]
  },
  {
   "cell_type": "code",
   "execution_count": 7,
   "metadata": {},
   "outputs": [],
   "source": [
    "import nltk\n",
    "results=[]\n",
    "for sent_no,sentence in enumerate(nltk.sent_tokenize(news_content)):\n",
    "    no_of_tokens=len(nltk.word_tokenize(sentence))\n",
    "    tagged = nltk.pos_tag(nltk.word_tokenize(sentence))\n",
    "    no_of_nouns = len([word for word,pos in tagged if pos in[\"NN\",\"NNP\"]])\n",
    "    ners = nltk.ne_chunk(nltk.pos_tag(nltk.word_tokenize(sentence)),binary = False)\n",
    "    no_of_ners = len([chunk for chunk in ners if hasattr(chunk,'label')])#\"node\" is be exchanged to \"label\"\n",
    "    score = (no_of_ners+no_of_nouns)/float(no_of_tokens)\n",
    "    results.append((sent_no,no_of_tokens,no_of_ners,no_of_nouns,score,sentence))\n",
    "    "
   ]
  },
  {
   "cell_type": "code",
   "execution_count": 9,
   "metadata": {},
   "outputs": [
    {
     "name": "stdout",
     "output_type": "stream",
     "text": [
      "(1, 29, 3, 11, 0.4827586206896552, \"The ban is part of Mr.Obama's push to ease tensions between law enforcement and minority communities in reaction to the crises in Baltimore;Ferguson,Mo.\")\n",
      "(3, 3, 0, 1, 0.3333333333333333, '--\\nblic.')\n",
      "(0, 31, 1, 8, 0.2903225806451613, 'President Obama on Monday will ban the federal provision of some types of military-style equipment to local police departments and sharply restrict the availability of others, administration officials said.')\n",
      "(4, 12, 0, 1, 0.08333333333333333, '\"It contains dozens of recomendations for agencies throughout the country.')\n",
      "(2, 5, 0, 0, 0.0, '; and other cities.')\n"
     ]
    }
   ],
   "source": [
    "for sent in sorted(results,key=lambda x:x[4],reverse = True):\n",
    "    print(sent)"
   ]
  },
  {
   "cell_type": "code",
   "execution_count": 24,
   "metadata": {},
   "outputs": [
    {
     "name": "stdout",
     "output_type": "stream",
     "text": [
      "['aa', 'american', 'and', 'are', 'at', 'baltimore', 'ban', 'between', 'by', 'call', 'camden', 'communities', 'community', 'conference', 'crises', 'davis', 'defining', 'department', 'director', 'doubt', 'during', 'ease', 'effort', 'enforcement', 'ferguson', 'house', 'in', 'is', 'justice', 'law', 'minority', 'mo', 'moment', 'monday', 'mr', 'obama', 'of', 'office', 'on', 'organized', 'oriented', 'part', 'planned', 'policing', 'promote', 'push', 'reaction', 'reporters', 'ronald', 'services', 'sitting', 'tensions', 'the', 'to', 'told', 'visit', 'we', 'white', 'without']\n"
     ]
    }
   ],
   "source": [
    "import nltk\n",
    "from sklearn.feature_extraction.text import TfidfVectorizer\n",
    "from sklearn.feature_extraction.text import CountVectorizer\n",
    "results = []\n",
    "news_content=\"Mr. Obama planned to promote the effort on Monday during a visit to Camden,N.J. The ban is part of Mr.Obama's push to ease tensions between law enforcement and minority communities in reaction to the crises in Baltimore;Ferguson,Mo. We are , without aa doubt , sitting at a defining moment in American policing, Ronald L.Davis, the director of the Office of Community Oriented Policing Services at the Department of Justice, told reporters in a conference call organized by the White House\"\n",
    "sentence = nltk.sent_tokenize(news_content)\n",
    "vectorizer = TfidfVectorizer(norm = 'l2',min_df=0,use_idf=True,smooth_idf=False,sublinear_tf=True)\n",
    "sklearn_binary = vectorizer.fit_transform(sentence)\n",
    "print(CountVectorizer.get_feature_names(vectorizer))"
   ]
  },
  {
   "cell_type": "code",
   "execution_count": 26,
   "metadata": {},
   "outputs": [
    {
     "name": "stdout",
     "output_type": "stream",
     "text": [
      "[[ 0.          0.          0.          0.          0.          0.          0.\n",
      "   0.          0.          0.          0.30993994  0.          0.          0.\n",
      "   0.          0.          0.          0.          0.          0.\n",
      "   0.30993994  0.          0.30993994  0.          0.          0.          0.\n",
      "   0.          0.          0.          0.          0.          0.\n",
      "   0.30993994  0.20757039  0.20757039  0.          0.          0.30993994\n",
      "   0.          0.          0.          0.30993994  0.          0.30993994\n",
      "   0.          0.          0.          0.          0.          0.          0.\n",
      "   0.14768804  0.35144723  0.          0.30993994  0.          0.          0.        ]\n",
      " [ 0.          0.          0.21532526  0.          0.          0.21532526\n",
      "   0.21532526  0.21532526  0.          0.          0.          0.21532526\n",
      "   0.          0.          0.21532526  0.          0.          0.          0.\n",
      "   0.          0.          0.21532526  0.          0.21532526  0.21532526\n",
      "   0.          0.24416171  0.21532526  0.          0.21532526  0.21532526\n",
      "   0.21532526  0.          0.          0.14420584  0.14420584  0.14420584\n",
      "   0.          0.          0.          0.          0.21532526  0.          0.\n",
      "   0.          0.21532526  0.21532526  0.          0.          0.          0.\n",
      "   0.21532526  0.17372306  0.24416171  0.          0.          0.          0.\n",
      "   0.        ]\n",
      " [ 0.16600498  0.16600498  0.          0.16600498  0.28107087  0.          0.\n",
      "   0.          0.16600498  0.16600498  0.          0.          0.16600498\n",
      "   0.16600498  0.          0.16600498  0.16600498  0.16600498  0.16600498\n",
      "   0.16600498  0.          0.          0.          0.          0.\n",
      "   0.16600498  0.18823644  0.          0.16600498  0.          0.          0.\n",
      "   0.16600498  0.          0.          0.          0.23331421  0.16600498\n",
      "   0.          0.16600498  0.16600498  0.          0.          0.28107087\n",
      "   0.          0.          0.          0.16600498  0.16600498  0.16600498\n",
      "   0.16600498  0.          0.18876129  0.          0.16600498  0.\n",
      "   0.16600498  0.16600498  0.16600498]]\n"
     ]
    }
   ],
   "source": [
    "print(sklearn_binary.toarray())"
   ]
  },
  {
   "cell_type": "code",
   "execution_count": 27,
   "metadata": {
    "collapsed": true
   },
   "outputs": [],
   "source": [
    "for i in sklearn_binary.toarray():\n",
    "    results.append(i.sum()/float(len(i.nonzero()[0])))"
   ]
  },
  {
   "cell_type": "code",
   "execution_count": 28,
   "metadata": {},
   "outputs": [
    {
     "data": {
      "text/plain": [
       "[0.28281630091973647, 0.20674753944674082, 0.17705107361112041]"
      ]
     },
     "execution_count": 28,
     "metadata": {},
     "output_type": "execute_result"
    }
   ],
   "source": [
    "results"
   ]
  },
  {
   "cell_type": "code",
   "execution_count": null,
   "metadata": {
    "collapsed": true
   },
   "outputs": [],
   "source": []
  }
 ],
 "metadata": {
  "kernelspec": {
   "display_name": "Python [conda env:tensorflow]",
   "language": "python",
   "name": "conda-env-tensorflow-py"
  },
  "language_info": {
   "codemirror_mode": {
    "name": "ipython",
    "version": 3
   },
   "file_extension": ".py",
   "mimetype": "text/x-python",
   "name": "python",
   "nbconvert_exporter": "python",
   "pygments_lexer": "ipython3",
   "version": "3.6.2"
  }
 },
 "nbformat": 4,
 "nbformat_minor": 2
}
